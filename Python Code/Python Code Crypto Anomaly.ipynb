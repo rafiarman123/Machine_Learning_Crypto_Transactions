{
 "cells": [
  {
   "cell_type": "markdown",
   "id": "93edb8aa",
   "metadata": {},
   "source": [
    "# Importing Libraries"
   ]
  },
  {
   "cell_type": "code",
   "execution_count": null,
   "id": "eddb0891",
   "metadata": {},
   "outputs": [],
   "source": [
    "# Importing necessary library and packages\n",
    "# General Use\n",
    "import pandas as pd\n",
    "import matplotlib.pyplot as plt\n",
    "%matplotlib inline\n",
    "import seaborn as sns\n",
    "import numpy as np\n",
    "from sklearn.preprocessing import MinMaxScaler\n",
    "from sklearn.preprocessing import StandardScaler\n",
    "\n",
    "# Clustering\n",
    "from sklearn.cluster import KMeans\n",
    "from sklearn.metrics import silhouette_score\n",
    "\n",
    "# 3D Visualization\n",
    "import plotly as py\n",
    "import plotly.graph_objs as go\n",
    "\n",
    "# Principal Component Analysis\n",
    "from sklearn.decomposition import PCA\n",
    "\n",
    "# Random Forest\n",
    "from sklearn.ensemble import RandomForestClassifier\n",
    "from sklearn.metrics import confusion_matrix\n",
    "# Set random seed\n",
    "np.random.seed(0)"
   ]
  },
  {
   "cell_type": "markdown",
   "id": "7a0e1e0c",
   "metadata": {},
   "source": [
    "# Data Preparation"
   ]
  },
  {
   "cell_type": "code",
   "execution_count": null,
   "id": "6d337866",
   "metadata": {},
   "outputs": [],
   "source": [
    "#Importing the data of block information\n",
    "data1 = pd.read_excel(\"blockhash.xlsx\")\n",
    "data1.head()"
   ]
  },
  {
   "cell_type": "code",
   "execution_count": null,
   "id": "47476c56",
   "metadata": {},
   "outputs": [],
   "source": [
    "#Importing the data of transaction\n",
    "data2 = pd.read_excel(\"tx.xlsx\")\n",
    "data2.head()"
   ]
  },
  {
   "cell_type": "code",
   "execution_count": null,
   "id": "93cb0ff7",
   "metadata": {},
   "outputs": [],
   "source": [
    "#Importing the data of transaction inputs\n",
    "data3 = pd.read_excel(\"txin.xlsx\")\n",
    "data3.head()"
   ]
  },
  {
   "cell_type": "code",
   "execution_count": null,
   "id": "2a188df9",
   "metadata": {},
   "outputs": [],
   "source": [
    "#Importing the data of transaction outputs\n",
    "data4 = pd.read_excel(\"txout.xlsx\")\n",
    "data4"
   ]
  },
  {
   "cell_type": "code",
   "execution_count": null,
   "id": "dcbff3f8",
   "metadata": {},
   "outputs": [],
   "source": [
    "#Merging the dataset data2 and data3\n",
    "df1 = pd.merge(data2, data3, on=\"txID\")\n",
    "df1.head()"
   ]
  },
  {
   "cell_type": "code",
   "execution_count": null,
   "id": "1222d00c",
   "metadata": {},
   "outputs": [],
   "source": [
    "#Merging the dataset df1 and data4\n",
    "df2 = pd.merge(df1, data4, on=\"txID\")\n",
    "df2.head()"
   ]
  },
  {
   "cell_type": "code",
   "execution_count": null,
   "id": "21d231e2",
   "metadata": {},
   "outputs": [],
   "source": [
    "#Creating pivot table to get the information of blocks\n",
    "pivot = pd.pivot_table(df2, values=['n_inputs', 'n_outputs', 'value_x', 'value_y'], index=['blockID'], \n",
    "                       aggfunc=np.sum, fill_value=0)\n",
    "pivot.reset_index()\n",
    "pivot.head()"
   ]
  },
  {
   "cell_type": "code",
   "execution_count": null,
   "id": "dcefd840",
   "metadata": {},
   "outputs": [],
   "source": [
    "#Merging the dataset pivot and data and preparing the final dataset\n",
    "final = pd.merge(pivot, data1, on=\"blockID\")\n",
    "final = final.rename(columns={'value_x': 'send_value', 'value_y': 'receive_value'})\n",
    "final.drop(columns=['bhash'], inplace=True)\n",
    "final['blockID'] = final['blockID'].astype(str)\n",
    "final.head()"
   ]
  },
  {
   "cell_type": "code",
   "execution_count": null,
   "id": "dae8aaf7",
   "metadata": {},
   "outputs": [],
   "source": [
    "#the datatypes of final dataset\n",
    "final.info()"
   ]
  },
  {
   "cell_type": "markdown",
   "id": "ec956a6e",
   "metadata": {},
   "source": [
    "# Exloratory Data Analysis"
   ]
  },
  {
   "cell_type": "markdown",
   "id": "a7dd5e2f",
   "metadata": {},
   "source": [
    "## Understanding the data"
   ]
  },
  {
   "cell_type": "code",
   "execution_count": null,
   "id": "085b0d89",
   "metadata": {},
   "outputs": [],
   "source": [
    "#the head of final dataset\n",
    "final.head()"
   ]
  },
  {
   "cell_type": "code",
   "execution_count": null,
   "id": "a6952098",
   "metadata": {},
   "outputs": [],
   "source": [
    "#the tail of final dataset\n",
    "final.tail()"
   ]
  },
  {
   "cell_type": "code",
   "execution_count": null,
   "id": "7ec2129b",
   "metadata": {},
   "outputs": [],
   "source": [
    "#the shape of final dataset\n",
    "final.shape"
   ]
  },
  {
   "cell_type": "code",
   "execution_count": null,
   "id": "62725183",
   "metadata": {},
   "outputs": [],
   "source": [
    "#the summary statistics of final dataset\n",
    "final.describe()"
   ]
  },
  {
   "cell_type": "code",
   "execution_count": null,
   "id": "1135ac1b",
   "metadata": {},
   "outputs": [],
   "source": [
    "#the columns of final dataset\n",
    "final.columns"
   ]
  },
  {
   "cell_type": "code",
   "execution_count": null,
   "id": "9e61da13",
   "metadata": {},
   "outputs": [],
   "source": [
    "#the number of unique values of different variable\n",
    "final.nunique()"
   ]
  },
  {
   "cell_type": "markdown",
   "id": "b2099bf9",
   "metadata": {},
   "source": [
    "## Cleaning the data"
   ]
  },
  {
   "cell_type": "code",
   "execution_count": null,
   "id": "86e7ff7f",
   "metadata": {},
   "outputs": [],
   "source": [
    "#total null values of different variables\n",
    "final.isnull().sum()"
   ]
  },
  {
   "cell_type": "code",
   "execution_count": null,
   "id": "4b41d1c6",
   "metadata": {},
   "outputs": [],
   "source": [
    "#dropping the dependent variable blockID\n",
    "final = final.drop(['blockID'], axis=1)\n",
    "final.head()"
   ]
  },
  {
   "cell_type": "markdown",
   "id": "57c028fd",
   "metadata": {},
   "source": [
    "## Relationship analysis"
   ]
  },
  {
   "cell_type": "code",
   "execution_count": null,
   "id": "fafc391f",
   "metadata": {},
   "outputs": [],
   "source": [
    "#setting the correlation coefficient\n",
    "correlation = final.corr()"
   ]
  },
  {
   "cell_type": "code",
   "execution_count": null,
   "id": "40d7d630",
   "metadata": {},
   "outputs": [],
   "source": [
    "#Using heatmap to illustrate the correlations between variables\n",
    "sns.heatmap(correlation, xticklabels=correlation.columns, yticklabels=correlation.columns, annot=True)"
   ]
  },
  {
   "cell_type": "code",
   "execution_count": null,
   "id": "1bbca403",
   "metadata": {},
   "outputs": [],
   "source": [
    "#Using pairplot to illustrate the correlations between variables\n",
    "sns.pairplot(final)"
   ]
  },
  {
   "cell_type": "code",
   "execution_count": null,
   "id": "fa25f5b3",
   "metadata": {},
   "outputs": [],
   "source": [
    "#Using distribution plot to illustrate the distribution of n_inputs\n",
    "sns.distplot(final[\"n_inputs\"])"
   ]
  },
  {
   "cell_type": "code",
   "execution_count": null,
   "id": "63d89007",
   "metadata": {},
   "outputs": [],
   "source": [
    "#Using distribution plot to illustrate the distribution of n_outputs\n",
    "sns.distplot(final[\"n_outputs\"])"
   ]
  },
  {
   "cell_type": "code",
   "execution_count": null,
   "id": "28d2806a",
   "metadata": {},
   "outputs": [],
   "source": [
    "#Using distribution plot to illustrate the distribution of send_value\n",
    "sns.distplot(final[\"send_value\"])"
   ]
  },
  {
   "cell_type": "code",
   "execution_count": null,
   "id": "a909883e",
   "metadata": {},
   "outputs": [],
   "source": [
    "#Using distribution plot to illustrate the distribution of recieve_value\n",
    "sns.distplot(final[\"receive_value\"])"
   ]
  },
  {
   "cell_type": "code",
   "execution_count": null,
   "id": "e9a948f7",
   "metadata": {},
   "outputs": [],
   "source": [
    "#Using distribution plot to illustrate the distribution of block creation time\n",
    "sns.distplot(final[\"btime\"])"
   ]
  },
  {
   "cell_type": "code",
   "execution_count": null,
   "id": "2653691e",
   "metadata": {},
   "outputs": [],
   "source": [
    "#Using distribution plot to illustrate the distribution of transactions\n",
    "sns.distplot(final[\"txs\"])"
   ]
  },
  {
   "cell_type": "code",
   "execution_count": null,
   "id": "f9636c12",
   "metadata": {},
   "outputs": [],
   "source": [
    "#Using box plot to illustrate the distribution of n_inputs\n",
    "sns.catplot(x='n_inputs', kind='box',data=final)"
   ]
  },
  {
   "cell_type": "code",
   "execution_count": null,
   "id": "74d8b6f1",
   "metadata": {},
   "outputs": [],
   "source": [
    "#Using boxplot plot to illustrate the distribution of n_outputs\n",
    "sns.catplot(x='n_outputs', kind='box',data=final)"
   ]
  },
  {
   "cell_type": "code",
   "execution_count": null,
   "id": "0a12647c",
   "metadata": {},
   "outputs": [],
   "source": [
    "#Using box plot to illustrate the distribution of send_value\n",
    "sns.catplot(x='send_value', kind='box',data=final)"
   ]
  },
  {
   "cell_type": "code",
   "execution_count": null,
   "id": "e45eee37",
   "metadata": {},
   "outputs": [],
   "source": [
    "#Using box plot to illustrate the distribution of receive_value\n",
    "sns.catplot(x='receive_value', kind='box', data=final)"
   ]
  },
  {
   "cell_type": "code",
   "execution_count": null,
   "id": "1069b089",
   "metadata": {},
   "outputs": [],
   "source": [
    "#Using box plot to illustrate the distribution of block creation time\n",
    "sns.catplot(x='btime', kind='box', data=final)"
   ]
  },
  {
   "cell_type": "code",
   "execution_count": null,
   "id": "ccfa00b0",
   "metadata": {},
   "outputs": [],
   "source": [
    "#Using box plot to illustrate the distribution of transactions\n",
    "sns.catplot(x='txs', kind='box', data=final)"
   ]
  },
  {
   "cell_type": "markdown",
   "id": "f9c06c1f",
   "metadata": {},
   "source": [
    "# K-means Clustering"
   ]
  },
  {
   "cell_type": "code",
   "execution_count": null,
   "id": "42ca8610",
   "metadata": {},
   "outputs": [],
   "source": [
    "#Preparaing the dataset for K-means algorithm\n",
    "dataD = final[[\"n_inputs\", \"n_outputs\", \"send_value\", \"receive_value\", \"btime\", \"txs\"]]\n",
    "dataD"
   ]
  },
  {
   "cell_type": "markdown",
   "id": "56c141a9",
   "metadata": {},
   "source": [
    "## Finding the Optimal Number of Clusters with the Elbow Method"
   ]
  },
  {
   "cell_type": "code",
   "execution_count": null,
   "id": "df57b44e",
   "metadata": {},
   "outputs": [],
   "source": [
    "#Setting the algorithm for the Elbow Method\n",
    "sum_of_sqr_dist = {}\n",
    "\n",
    "for k in range(1, 10):\n",
    "    km = KMeans(n_clusters=k, init='k-means++', max_iter=1000)\n",
    "    km = km.fit(dataD)\n",
    "    sum_of_sqr_dist[k] = km.inertia_"
   ]
  },
  {
   "cell_type": "code",
   "execution_count": null,
   "id": "72b606d2",
   "metadata": {},
   "outputs": [],
   "source": [
    "#Visualizing the Elbow Method for Optimal number of clustering\n",
    "sns.pointplot(x=list(sum_of_sqr_dist.keys()), y=list(sum_of_sqr_dist.values()))\n",
    "plt.xlabel(\"Number of Clusters (K)\")\n",
    "plt.ylabel(\"Sum of Square Distances\")\n",
    "plt.title(\"Elbow Method for Optimal K\")\n",
    "plt.show()"
   ]
  },
  {
   "cell_type": "code",
   "execution_count": null,
   "id": "d0d8e200",
   "metadata": {},
   "outputs": [],
   "source": [
    "#Setting the KMeans algorithm for the number of clusters 2\n",
    "Model2 = KMeans(n_clusters=2, init='k-means++', max_iter=1000)\n",
    "Model2.fit(dataD)"
   ]
  },
  {
   "cell_type": "code",
   "execution_count": null,
   "id": "0afa0a55",
   "metadata": {},
   "outputs": [],
   "source": [
    "#Fitting the model and visualizing the predicted clusters\n",
    "dataD['Cluster'] = Model2.fit_predict(dataD)\n",
    "dataD.head()"
   ]
  },
  {
   "cell_type": "code",
   "execution_count": null,
   "id": "2330fb1f",
   "metadata": {},
   "outputs": [],
   "source": [
    "#Separating Normal blocks (Cluster==0) and Suspicious blocks (Cluster==1)\n",
    "clx0 = dataD[dataD.Cluster==0]\n",
    "clx1 = dataD[dataD.Cluster==1]"
   ]
  },
  {
   "cell_type": "code",
   "execution_count": null,
   "id": "383a17c4",
   "metadata": {},
   "outputs": [],
   "source": [
    "#the head of Suspicious blocks\n",
    "clx1.head()"
   ]
  },
  {
   "cell_type": "code",
   "execution_count": null,
   "id": "21cf9b1f",
   "metadata": {},
   "outputs": [],
   "source": [
    "#Counting the number of blocks in two clusters \n",
    "kmeans_model = KMeans(n_clusters = 2, random_state = 1).fit(dataD)\n",
    "dataD['kmean'] = kmeans_model.labels_\n",
    "dataD['kmean'].value_counts()"
   ]
  },
  {
   "cell_type": "markdown",
   "id": "fc443734",
   "metadata": {},
   "source": [
    "## Evaluation with Silhouette Score"
   ]
  },
  {
   "cell_type": "code",
   "execution_count": null,
   "id": "06b1b911",
   "metadata": {},
   "outputs": [],
   "source": [
    "#Setting the labels variable\n",
    "labels = Model2.labels_"
   ]
  },
  {
   "cell_type": "code",
   "execution_count": null,
   "id": "7537f7aa",
   "metadata": {},
   "outputs": [],
   "source": [
    "#the silhouette score for this dataset\n",
    "silhouette_score(dataD, labels)"
   ]
  },
  {
   "cell_type": "code",
   "execution_count": null,
   "id": "6c200f7f",
   "metadata": {},
   "outputs": [],
   "source": [
    "#Setting the algorithm for the silhouette score of different number of clusters\n",
    "silhouette = {}\n",
    "\n",
    "for k in range(2,8):\n",
    "    km = KMeans(n_clusters=k, init='k-means++', max_iter=1000)\n",
    "    km.fit(dataD)\n",
    "    silhouette[k] = silhouette_score(dataD, km.labels_)"
   ]
  },
  {
   "cell_type": "code",
   "execution_count": null,
   "id": "0fe224c1",
   "metadata": {},
   "outputs": [],
   "source": [
    "#Visualizing the silhouette score of different number of clusters\n",
    "sns.pointplot(x=list(silhouette.keys()), y=list(silhouette.values()))\n",
    "plt.xlabel(\"Number of Clusters (K)\")\n",
    "plt.ylabel(\"Silhouette Scores\")\n",
    "plt.title(\"Silhouette Scores for Each K\")\n",
    "plt.show()"
   ]
  },
  {
   "cell_type": "markdown",
   "id": "78ae0803",
   "metadata": {},
   "source": [
    "# Principal Component Analysis"
   ]
  },
  {
   "cell_type": "code",
   "execution_count": null,
   "id": "bd035f3c",
   "metadata": {},
   "outputs": [],
   "source": [
    "#the head of dataset for Principal Component Analysis\n",
    "dataD.head()"
   ]
  },
  {
   "cell_type": "code",
   "execution_count": null,
   "id": "7729fd37",
   "metadata": {},
   "outputs": [],
   "source": [
    "#Preparing the dataset for Principal Component Analysis\n",
    "PCAD = pd.merge(final, dataD, on=[\"n_inputs\", \"n_outputs\", \"receive_value\", \"send_value\", \"btime\", \"txs\"])\n",
    "FPCAD = PCAD['Cluster']\n",
    "PCAD.drop(columns=['Cluster', 'kmean'], inplace=True)\n",
    "PCAD"
   ]
  },
  {
   "cell_type": "code",
   "execution_count": null,
   "id": "c6c00258",
   "metadata": {},
   "outputs": [],
   "source": [
    "#the columns of the dataset\n",
    "PCAD.keys()"
   ]
  },
  {
   "cell_type": "code",
   "execution_count": null,
   "id": "b0f7b34f",
   "metadata": {},
   "outputs": [],
   "source": [
    "#Scaling the data StandardScaler\n",
    "scaler = StandardScaler()\n",
    "scaler.fit(PCAD)\n",
    "scaled_data = scaler.transform(PCAD)"
   ]
  },
  {
   "cell_type": "code",
   "execution_count": null,
   "id": "5278764e",
   "metadata": {},
   "outputs": [],
   "source": [
    "#Setting the algorithm for Principal Component Analysis\n",
    "pca = PCA(n_components = 2)\n",
    "pca.fit(scaled_data)"
   ]
  },
  {
   "cell_type": "code",
   "execution_count": null,
   "id": "9d350818",
   "metadata": {},
   "outputs": [],
   "source": [
    "#The dimensionality reduction with Principal Component Analysis\n",
    "x_pca = pca.transform(scaled_data)\n",
    "print(scaled_data.shape)\n",
    "print(x_pca.shape)"
   ]
  },
  {
   "cell_type": "code",
   "execution_count": null,
   "id": "4f710e12",
   "metadata": {},
   "outputs": [],
   "source": [
    "#Visualizing the Principal Components of Principal Component Analysis\n",
    "plt.figure(figsize=(8,6))\n",
    "plt.scatter(x_pca[:,0], x_pca[:,1], c=FPCAD, cmap='plasma')\n",
    "plt.xlabel('First principal component')\n",
    "plt.ylabel('Second principal component')"
   ]
  },
  {
   "cell_type": "code",
   "execution_count": null,
   "id": "37858acd",
   "metadata": {},
   "outputs": [],
   "source": [
    "#Interpreting the components\n",
    "pca.components_"
   ]
  },
  {
   "cell_type": "code",
   "execution_count": null,
   "id": "9c572cf9",
   "metadata": {},
   "outputs": [],
   "source": [
    "#Visualizing the contributions of the components\n",
    "df_comp = pd.DataFrame(pca.components_, columns = PCAD.keys())\n",
    "plt.figure(figsize=(12,6))\n",
    "sns.heatmap(df_comp, cmap='plasma')"
   ]
  },
  {
   "cell_type": "markdown",
   "id": "1511be5e",
   "metadata": {},
   "source": [
    "# Random Forest"
   ]
  },
  {
   "cell_type": "code",
   "execution_count": null,
   "id": "306f7c9b",
   "metadata": {
    "scrolled": false
   },
   "outputs": [],
   "source": [
    "#Preparing the dataset for Random Forest\n",
    "dataD.drop(columns=['kmean'], inplace=True)\n",
    "dataD"
   ]
  },
  {
   "cell_type": "code",
   "execution_count": null,
   "id": "45b8eaeb",
   "metadata": {},
   "outputs": [],
   "source": [
    "#Creating Test and Train Data\n",
    "dataD['is_train'] = np.random.uniform(0, 1, len(dataD)) <= .75\n",
    "\n",
    "#the head of the dataset\n",
    "dataD.head()"
   ]
  },
  {
   "cell_type": "code",
   "execution_count": null,
   "id": "cda17bab",
   "metadata": {},
   "outputs": [],
   "source": [
    "#Creating dataframes with test rows and training rows\n",
    "train, test = dataD[dataD['is_train']==True], dataD[dataD['is_train']==False]\n",
    "\n",
    "#Showing the number of observations for the test and training dataframes\n",
    "print('Number of observations in the training data:', len(train))\n",
    "print('Number of observations in the test data:',len(test))"
   ]
  },
  {
   "cell_type": "code",
   "execution_count": null,
   "id": "80e1c54b",
   "metadata": {},
   "outputs": [],
   "source": [
    "#Creating a list of the feature column's names\n",
    "features = dataD.columns[:6]\n",
    "\n",
    "#Viewing features\n",
    "print(features)"
   ]
  },
  {
   "cell_type": "code",
   "execution_count": null,
   "id": "f2f2fefb",
   "metadata": {},
   "outputs": [],
   "source": [
    "#Viewing target\n",
    "y = train['Cluster']\n",
    "y.head()"
   ]
  },
  {
   "cell_type": "code",
   "execution_count": null,
   "id": "45c6c3b4",
   "metadata": {},
   "outputs": [],
   "source": [
    "#Creating a random forest Classifier.\n",
    "clf = RandomForestClassifier(n_jobs=2, random_state=0)\n",
    "\n",
    "#Training the Classifier\n",
    "clf.fit(train[features], y)"
   ]
  },
  {
   "cell_type": "code",
   "execution_count": null,
   "id": "1eedd192",
   "metadata": {},
   "outputs": [],
   "source": [
    "#Applying the trained classifier to the test\n",
    "clf.predict(test[features])"
   ]
  },
  {
   "cell_type": "code",
   "execution_count": null,
   "id": "0af7fdcc",
   "metadata": {},
   "outputs": [],
   "source": [
    "#Viewing the predicted probabilities of the first 10 observations\n",
    "clf.predict_proba(test[features])[0:10]"
   ]
  },
  {
   "cell_type": "code",
   "execution_count": null,
   "id": "ac972c70",
   "metadata": {},
   "outputs": [],
   "source": [
    "#Creating actual english names for the plants for each predicted plant class\n",
    "preds = clf.predict(test[features])\n",
    "preds = pd.Series(np.where(preds == 1, 'Suspicious', 'Normal'))\n",
    "\n",
    "#Viewing the PREDICTED species\n",
    "preds.head()"
   ]
  },
  {
   "cell_type": "code",
   "execution_count": null,
   "id": "567bf5ee",
   "metadata": {},
   "outputs": [],
   "source": [
    "#Viewing the ACTUAL species for the first five observations\n",
    "actual = test['Cluster']\n",
    "actual = pd.Series(np.where(actual == 1, 'Suspicious', 'Normal'))\n",
    "actual.head()"
   ]
  },
  {
   "cell_type": "markdown",
   "id": "7425ff00",
   "metadata": {},
   "source": [
    "## Evaluation with Confusion Matrix"
   ]
  },
  {
   "cell_type": "code",
   "execution_count": null,
   "id": "e0663a67",
   "metadata": {},
   "outputs": [],
   "source": [
    "#Settting up the confusion matrix\n",
    "cm = confusion_matrix(actual, preds)\n",
    "cm"
   ]
  },
  {
   "cell_type": "code",
   "execution_count": null,
   "id": "4f92e3f1",
   "metadata": {},
   "outputs": [],
   "source": [
    "#Creating a dataframe for a array-formatted Confusion matrix,so it will be easy for plotting\n",
    "cm_df = pd.DataFrame(cm,\n",
    "                     index = ['Normal','Suspicious'], \n",
    "                     columns = ['Normal','Suspicious'])"
   ]
  },
  {
   "cell_type": "code",
   "execution_count": null,
   "id": "07a496e3",
   "metadata": {},
   "outputs": [],
   "source": [
    "#Plotting the confusion matrix\n",
    "plt.figure(figsize=(5,4))\n",
    "sns.heatmap(cm_df, annot=True)\n",
    "plt.title('Confusion Matrix')\n",
    "plt.ylabel('Actual Values')\n",
    "plt.xlabel('Predicted Values')\n",
    "plt.show()"
   ]
  }
 ],
 "metadata": {
  "kernelspec": {
   "display_name": "Python 3 (ipykernel)",
   "language": "python",
   "name": "python3"
  },
  "language_info": {
   "codemirror_mode": {
    "name": "ipython",
    "version": 3
   },
   "file_extension": ".py",
   "mimetype": "text/x-python",
   "name": "python",
   "nbconvert_exporter": "python",
   "pygments_lexer": "ipython3",
   "version": "3.9.13"
  }
 },
 "nbformat": 4,
 "nbformat_minor": 5
}
